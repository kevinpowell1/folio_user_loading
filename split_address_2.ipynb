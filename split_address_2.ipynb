{
 "cells": [
  {
   "cell_type": "code",
   "execution_count": 45,
   "metadata": {},
   "outputs": [],
   "source": [
    "import csv\n",
    "import re\n",
    "from datetime import datetime\n",
    "\n",
    "timestamp = datetime.strftime(datetime.now(), \"%Y%m%d\")\n",
    "\n",
    "path = \"iterations/user_loading/source_data/users/fakelibrary_users.tsv\"\n",
    "new_path = f\"iterations/user_loading/source_data/users/{timestamp}_fakelibrary_users.tsv\"\n",
    "\n",
    "with open(path, mode=\"r\", encoding='utf-8') as csvfile:\n",
    "    reader = csv.DictReader(csvfile, delimiter=\"\\t\")\n",
    "    data = [row for row in reader]\n",
    "patterns = [\" Apt.+\", \" Suite.+\"]\n",
    "new_rows = []\n",
    "for row in data:\n",
    "    addy = row[\"Address Line 1\"]\n",
    "    matches = [re.search(p, addy).group(0) for \n",
    "               p in patterns if\n",
    "               re.search(p, addy)]\n",
    "    if len(matches):\n",
    "        m = matches[0]\n",
    "        row[\"Address Line 1\"] = row[\"Address Line 1\"].replace(m, \"\")\n",
    "        row[\"Address Line 2\"] = m.strip()\n",
    "    new_rows.append(row)\n",
    "with open(new_path, mode=\"w\", encoding='utf-8') as csvfile:\n",
    "    fieldnames = [*data[0].keys(), \"Address Line 2\"]\n",
    "    writer = csv.DictWriter(csvfile, delimiter=\"\\t\", fieldnames=fieldnames)\n",
    "    writer.writeheader()\n",
    "    writer.writerows(new_rows)"
   ]
  }
 ],
 "metadata": {
  "kernelspec": {
   "display_name": "folio-user-loading-6FrMQWSG-py3.9",
   "language": "python",
   "name": "python3"
  },
  "language_info": {
   "codemirror_mode": {
    "name": "ipython",
    "version": 3
   },
   "file_extension": ".py",
   "mimetype": "text/x-python",
   "name": "python",
   "nbconvert_exporter": "python",
   "pygments_lexer": "ipython3",
   "version": "3.9.12"
  },
  "orig_nbformat": 4
 },
 "nbformat": 4,
 "nbformat_minor": 2
}
